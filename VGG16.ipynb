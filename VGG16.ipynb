{
  "nbformat": 4,
  "nbformat_minor": 0,
  "metadata": {
    "colab": {
      "name": "VGG16.ipynb",
      "provenance": [],
      "collapsed_sections": [],
      "authorship_tag": "ABX9TyOiC8MBApWVi+UzhtNefTcf",
      "include_colab_link": true
    },
    "kernelspec": {
      "name": "python3",
      "display_name": "Python 3"
    },
    "language_info": {
      "name": "python"
    }
  },
  "cells": [
    {
      "cell_type": "markdown",
      "metadata": {
        "id": "view-in-github",
        "colab_type": "text"
      },
      "source": [
        "<a href=\"https://colab.research.google.com/github/rabiaozdemir/Transfer_Learning/blob/main/VGG16.ipynb\" target=\"_parent\"><img src=\"https://colab.research.google.com/assets/colab-badge.svg\" alt=\"Open In Colab\"/></a>"
      ]
    },
    {
      "cell_type": "code",
      "metadata": {
        "id": "-8qf7UIh0Oq-"
      },
      "source": [
        "import os\n",
        "import numpy as np\n",
        "import tensorflow as tf\n",
        "import matplotlib.pyplot as plt\n",
        "from keras.models import Model,Sequential\n",
        "from keras.applications import xception, vgg16, mobilenet\n",
        "from keras.layers import Input, Flatten, Dense, Dropout, BatchNormalization\n",
        "from keras.layers import Conv2D, MaxPooling2D, AveragePooling2D, ZeroPadding2D,GlobalAveragePooling2D\n",
        "from sklearn.metrics import classification_report, confusion_matrix\n",
        "from keras.utils import np_utils\n",
        "from keras.preprocessing.image import ImageDataGenerator,img_to_array,load_img\n",
        "from keras.optimizers import Adam, SGD\n",
        "from keras.callbacks import ModelCheckpoint"
      ],
      "execution_count": 2,
      "outputs": []
    },
    {
      "cell_type": "code",
      "metadata": {
        "id": "VdcuNWj80Vm0"
      },
      "source": [
        "from google.colab import drive\n",
        "drive.mount(\"/content/drive\")\n"
      ],
      "execution_count": null,
      "outputs": []
    },
    {
      "cell_type": "code",
      "metadata": {
        "id": "Kl2LU9lj0bnz",
        "colab": {
          "base_uri": "https://localhost:8080/"
        },
        "outputId": "b3068825-6962-45f1-81ff-c035d3805747"
      },
      "source": [
        "train_path=\"./drive/MyDrive/chest_xray/train\"\n",
        "test_path=\"./drive/MyDrive/chest_xray/test\"\n",
        "\n",
        "trainDataGen=ImageDataGenerator(rescale=1./255, validation_split=0.1)\n",
        "testDataGen=ImageDataGenerator(rescale=1./255)\n",
        "\n",
        "trainGen=trainDataGen.flow_from_directory(\n",
        "    train_path,\n",
        "    target_size=(224,224),\n",
        "    color_mode='rgb',\n",
        "    class_mode=\"categorical\",\n",
        "    batch_size=32,\n",
        "    subset=\"training\"\n",
        "    )\n",
        "\n",
        "valGen=trainDataGen.flow_from_directory(\n",
        "    train_path,\n",
        "    target_size=(224,224),\n",
        "    color_mode='rgb',\n",
        "    class_mode=\"categorical\",\n",
        "    batch_size=32,\n",
        "    subset=\"validation\"\n",
        ")\n",
        "\n",
        "testGen=testDataGen.flow_from_directory(\n",
        "    test_path,\n",
        "    target_size=(224,224),\n",
        "    color_mode='rgb',\n",
        "    class_mode=\"categorical\",\n",
        "    batch_size=1\n",
        "    )"
      ],
      "execution_count": null,
      "outputs": [
        {
          "output_type": "stream",
          "text": [
            "Found 4711 images belonging to 3 classes.\n",
            "Found 521 images belonging to 3 classes.\n",
            "Found 624 images belonging to 3 classes.\n"
          ],
          "name": "stdout"
        }
      ]
    },
    {
      "cell_type": "code",
      "metadata": {
        "id": "1r7Z843F0c1t",
        "colab": {
          "base_uri": "https://localhost:8080/"
        },
        "outputId": "59837d7b-80a5-4a3f-fb11-04a69dbd39d2"
      },
      "source": [
        "model = vgg16.VGG16(weights='imagenet', include_top=False, input_shape=(224,224, 3))\n",
        "print (model.summary())"
      ],
      "execution_count": null,
      "outputs": [
        {
          "output_type": "stream",
          "text": [
            "Downloading data from https://storage.googleapis.com/tensorflow/keras-applications/vgg16/vgg16_weights_tf_dim_ordering_tf_kernels_notop.h5\n",
            "58892288/58889256 [==============================] - 0s 0us/step\n",
            "58900480/58889256 [==============================] - 0s 0us/step\n",
            "Model: \"vgg16\"\n",
            "_________________________________________________________________\n",
            "Layer (type)                 Output Shape              Param #   \n",
            "=================================================================\n",
            "input_1 (InputLayer)         [(None, 224, 224, 3)]     0         \n",
            "_________________________________________________________________\n",
            "block1_conv1 (Conv2D)        (None, 224, 224, 64)      1792      \n",
            "_________________________________________________________________\n",
            "block1_conv2 (Conv2D)        (None, 224, 224, 64)      36928     \n",
            "_________________________________________________________________\n",
            "block1_pool (MaxPooling2D)   (None, 112, 112, 64)      0         \n",
            "_________________________________________________________________\n",
            "block2_conv1 (Conv2D)        (None, 112, 112, 128)     73856     \n",
            "_________________________________________________________________\n",
            "block2_conv2 (Conv2D)        (None, 112, 112, 128)     147584    \n",
            "_________________________________________________________________\n",
            "block2_pool (MaxPooling2D)   (None, 56, 56, 128)       0         \n",
            "_________________________________________________________________\n",
            "block3_conv1 (Conv2D)        (None, 56, 56, 256)       295168    \n",
            "_________________________________________________________________\n",
            "block3_conv2 (Conv2D)        (None, 56, 56, 256)       590080    \n",
            "_________________________________________________________________\n",
            "block3_conv3 (Conv2D)        (None, 56, 56, 256)       590080    \n",
            "_________________________________________________________________\n",
            "block3_pool (MaxPooling2D)   (None, 28, 28, 256)       0         \n",
            "_________________________________________________________________\n",
            "block4_conv1 (Conv2D)        (None, 28, 28, 512)       1180160   \n",
            "_________________________________________________________________\n",
            "block4_conv2 (Conv2D)        (None, 28, 28, 512)       2359808   \n",
            "_________________________________________________________________\n",
            "block4_conv3 (Conv2D)        (None, 28, 28, 512)       2359808   \n",
            "_________________________________________________________________\n",
            "block4_pool (MaxPooling2D)   (None, 14, 14, 512)       0         \n",
            "_________________________________________________________________\n",
            "block5_conv1 (Conv2D)        (None, 14, 14, 512)       2359808   \n",
            "_________________________________________________________________\n",
            "block5_conv2 (Conv2D)        (None, 14, 14, 512)       2359808   \n",
            "_________________________________________________________________\n",
            "block5_conv3 (Conv2D)        (None, 14, 14, 512)       2359808   \n",
            "_________________________________________________________________\n",
            "block5_pool (MaxPooling2D)   (None, 7, 7, 512)         0         \n",
            "=================================================================\n",
            "Total params: 14,714,688\n",
            "Trainable params: 14,714,688\n",
            "Non-trainable params: 0\n",
            "_________________________________________________________________\n",
            "None\n"
          ],
          "name": "stdout"
        }
      ]
    },
    {
      "cell_type": "code",
      "metadata": {
        "id": "yk-2rm940kgL"
      },
      "source": [
        "x=model.output\n",
        "x=Flatten()(x)\n",
        "x=Dense(32,activation='relu')(x)\n",
        "x=Dense(32,activation='relu')(x)\n",
        "x=Dense(256,activation='relu')(x)\n",
        "#x=Dense(256,activation='relu')(x)\n",
        "#x=Dense(128,activation='relu')(x)\n",
        "#x=Dropout(0.2)(x)\n",
        "output=Dense(3,activation='softmax')(x)"
      ],
      "execution_count": null,
      "outputs": []
    },
    {
      "cell_type": "code",
      "metadata": {
        "id": "RUv9B_n4008p"
      },
      "source": [
        "\n",
        "# tüm layerları donduralım\n",
        "for layers in model.layers:\n",
        "    layers.trainable=False\n"
      ],
      "execution_count": null,
      "outputs": []
    },
    {
      "cell_type": "code",
      "metadata": {
        "id": "RbHOBxRs052w"
      },
      "source": [
        "New_Model=Model(model.input,output)"
      ],
      "execution_count": null,
      "outputs": []
    },
    {
      "cell_type": "code",
      "metadata": {
        "id": "XnBhwQWs055J",
        "colab": {
          "base_uri": "https://localhost:8080/"
        },
        "outputId": "620b8e2c-547a-4a21-8d03-c7bf23635e6c"
      },
      "source": [
        "print (New_Model.summary())"
      ],
      "execution_count": null,
      "outputs": [
        {
          "output_type": "stream",
          "text": [
            "Model: \"model\"\n",
            "_________________________________________________________________\n",
            "Layer (type)                 Output Shape              Param #   \n",
            "=================================================================\n",
            "input_1 (InputLayer)         [(None, 224, 224, 3)]     0         \n",
            "_________________________________________________________________\n",
            "block1_conv1 (Conv2D)        (None, 224, 224, 64)      1792      \n",
            "_________________________________________________________________\n",
            "block1_conv2 (Conv2D)        (None, 224, 224, 64)      36928     \n",
            "_________________________________________________________________\n",
            "block1_pool (MaxPooling2D)   (None, 112, 112, 64)      0         \n",
            "_________________________________________________________________\n",
            "block2_conv1 (Conv2D)        (None, 112, 112, 128)     73856     \n",
            "_________________________________________________________________\n",
            "block2_conv2 (Conv2D)        (None, 112, 112, 128)     147584    \n",
            "_________________________________________________________________\n",
            "block2_pool (MaxPooling2D)   (None, 56, 56, 128)       0         \n",
            "_________________________________________________________________\n",
            "block3_conv1 (Conv2D)        (None, 56, 56, 256)       295168    \n",
            "_________________________________________________________________\n",
            "block3_conv2 (Conv2D)        (None, 56, 56, 256)       590080    \n",
            "_________________________________________________________________\n",
            "block3_conv3 (Conv2D)        (None, 56, 56, 256)       590080    \n",
            "_________________________________________________________________\n",
            "block3_pool (MaxPooling2D)   (None, 28, 28, 256)       0         \n",
            "_________________________________________________________________\n",
            "block4_conv1 (Conv2D)        (None, 28, 28, 512)       1180160   \n",
            "_________________________________________________________________\n",
            "block4_conv2 (Conv2D)        (None, 28, 28, 512)       2359808   \n",
            "_________________________________________________________________\n",
            "block4_conv3 (Conv2D)        (None, 28, 28, 512)       2359808   \n",
            "_________________________________________________________________\n",
            "block4_pool (MaxPooling2D)   (None, 14, 14, 512)       0         \n",
            "_________________________________________________________________\n",
            "block5_conv1 (Conv2D)        (None, 14, 14, 512)       2359808   \n",
            "_________________________________________________________________\n",
            "block5_conv2 (Conv2D)        (None, 14, 14, 512)       2359808   \n",
            "_________________________________________________________________\n",
            "block5_conv3 (Conv2D)        (None, 14, 14, 512)       2359808   \n",
            "_________________________________________________________________\n",
            "block5_pool (MaxPooling2D)   (None, 7, 7, 512)         0         \n",
            "_________________________________________________________________\n",
            "flatten (Flatten)            (None, 25088)             0         \n",
            "_________________________________________________________________\n",
            "dense (Dense)                (None, 32)                802848    \n",
            "_________________________________________________________________\n",
            "dense_1 (Dense)              (None, 32)                1056      \n",
            "_________________________________________________________________\n",
            "dropout (Dropout)            (None, 32)                0         \n",
            "_________________________________________________________________\n",
            "dense_2 (Dense)              (None, 3)                 99        \n",
            "=================================================================\n",
            "Total params: 15,518,691\n",
            "Trainable params: 804,003\n",
            "Non-trainable params: 14,714,688\n",
            "_________________________________________________________________\n",
            "None\n"
          ],
          "name": "stdout"
        }
      ]
    },
    {
      "cell_type": "code",
      "metadata": {
        "id": "sxtnau1N09O6",
        "colab": {
          "base_uri": "https://localhost:8080/"
        },
        "outputId": "3c1c38dd-3ab0-468b-f199-7f3450e31270"
      },
      "source": [
        "New_Model.compile(optimizer='adam', loss='categorical_crossentropy',metrics=[\"accuracy\"])\n",
        "history=New_Model.fit(\n",
        " trainGen,\n",
        " steps_per_epoch=trainGen.samples//32,\n",
        " epochs=10,\n",
        " validation_data=valGen,\n",
        " validation_steps=valGen.samples//32,\n",
        " #shuffle=True,\n",
        " #callbacks=[checkpoint]\n",
        " )"
      ],
      "execution_count": null,
      "outputs": [
        {
          "output_type": "stream",
          "text": [
            "Epoch 1/10\n",
            "147/147 [==============================] - 2373s 16s/step - loss: 1.1066 - accuracy: 0.4506 - val_loss: 0.7405 - val_accuracy: 0.7266\n",
            "Epoch 2/10\n",
            "147/147 [==============================] - 2305s 16s/step - loss: 0.7882 - accuracy: 0.6776 - val_loss: 0.6431 - val_accuracy: 0.7266\n",
            "Epoch 3/10\n",
            "147/147 [==============================] - 2302s 16s/step - loss: 0.6579 - accuracy: 0.7145 - val_loss: 0.5526 - val_accuracy: 0.7227\n",
            "Epoch 4/10\n",
            "147/147 [==============================] - 2300s 16s/step - loss: 0.5898 - accuracy: 0.7137 - val_loss: 0.5290 - val_accuracy: 0.7207\n",
            "Epoch 5/10\n",
            "147/147 [==============================] - 2295s 16s/step - loss: 0.5339 - accuracy: 0.7269 - val_loss: 0.4881 - val_accuracy: 0.7422\n",
            "Epoch 6/10\n",
            "147/147 [==============================] - 2290s 16s/step - loss: 0.5030 - accuracy: 0.7385 - val_loss: 0.4517 - val_accuracy: 0.7500\n",
            "Epoch 7/10\n",
            "147/147 [==============================] - 2291s 16s/step - loss: 0.4512 - accuracy: 0.7591 - val_loss: 0.4700 - val_accuracy: 0.7930\n",
            "Epoch 8/10\n",
            "147/147 [==============================] - 2291s 16s/step - loss: 0.4639 - accuracy: 0.7655 - val_loss: 0.4281 - val_accuracy: 0.7852\n",
            "Epoch 9/10\n",
            "147/147 [==============================] - 2293s 16s/step - loss: 0.4554 - accuracy: 0.7798 - val_loss: 0.4425 - val_accuracy: 0.7676\n",
            "Epoch 10/10\n",
            "147/147 [==============================] - 2293s 16s/step - loss: 0.4246 - accuracy: 0.7989 - val_loss: 0.4329 - val_accuracy: 0.7695\n"
          ],
          "name": "stdout"
        }
      ]
    },
    {
      "cell_type": "code",
      "metadata": {
        "id": "5Hcx8BON1Jpz"
      },
      "source": [
        "print(\"Test Loss : \",score[0])\n",
        "print(\"Test Accuracy % : \",score[1]*100)"
      ],
      "execution_count": null,
      "outputs": []
    },
    {
      "cell_type": "code",
      "metadata": {
        "id": "laz3bgXF1ES0"
      },
      "source": [
        "y_pred=np.argmax(New_Model.predict(testGen), axis=1)"
      ],
      "execution_count": null,
      "outputs": []
    },
    {
      "cell_type": "code",
      "metadata": {
        "id": "heVgFBCk1OhN"
      },
      "source": [
        "print('Confusion Matrix')\n",
        "print(confusion_matrix(testGen.classes,y_pred))"
      ],
      "execution_count": null,
      "outputs": []
    },
    {
      "cell_type": "code",
      "metadata": {
        "id": "4hB0Zloo1PVm"
      },
      "source": [
        "print('Classification Report')\n",
        "target_names=['bacteria_pneumonia', 'normal', 'virus_pneumonia']\n",
        "print(classification_report(testGen.classes, y_pred, target_names=target_names))"
      ],
      "execution_count": null,
      "outputs": []
    }
  ]
}