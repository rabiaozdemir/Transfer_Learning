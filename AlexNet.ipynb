{
  "nbformat": 4,
  "nbformat_minor": 0,
  "metadata": {
    "colab": {
      "name": "AlexNet.ipynb",
      "provenance": [],
      "collapsed_sections": [],
      "authorship_tag": "ABX9TyO4CFMWfc9SZByva+jrvujR",
      "include_colab_link": true
    },
    "kernelspec": {
      "name": "python3",
      "display_name": "Python 3"
    },
    "language_info": {
      "name": "python"
    }
  },
  "cells": [
    {
      "cell_type": "markdown",
      "metadata": {
        "id": "view-in-github",
        "colab_type": "text"
      },
      "source": [
        "<a href=\"https://colab.research.google.com/github/rabiaozdemir/Transfer_Learning/blob/main/AlexNet.ipynb\" target=\"_parent\"><img src=\"https://colab.research.google.com/assets/colab-badge.svg\" alt=\"Open In Colab\"/></a>"
      ]
    },
    {
      "cell_type": "code",
      "metadata": {
        "id": "lseNa3dxjZj8"
      },
      "source": [
        "\n",
        "import numpy as np\n",
        "import os\n",
        "import random\n",
        "import matplotlib.pyplot as plt\n",
        "from keras.models import Sequential\n",
        "from keras.layers.core import Dense,Dropout,Flatten\n",
        "from keras.layers import MaxPooling2D,ZeroPadding2D, Conv2D\n",
        "from keras.preprocessing.image import ImageDataGenerator\n",
        "from keras.utils import np_utils"
      ],
      "execution_count": 1,
      "outputs": []
    },
    {
      "cell_type": "code",
      "metadata": {
        "id": "Wu5bds2IzlYK",
        "colab": {
          "base_uri": "https://localhost:8080/"
        },
        "outputId": "275a631f-bb50-4064-b689-457cdc497f77"
      },
      "source": [
        "from google.colab import drive\n",
        "drive.mount(\"/content/drive\")\n"
      ],
      "execution_count": 2,
      "outputs": [
        {
          "output_type": "stream",
          "text": [
            "Mounted at /content/drive\n"
          ],
          "name": "stdout"
        }
      ]
    },
    {
      "cell_type": "code",
      "metadata": {
        "id": "KaA-Ex8IzldZ",
        "colab": {
          "base_uri": "https://localhost:8080/"
        },
        "outputId": "ed460634-bb64-4543-fb17-3fbfc70557f7"
      },
      "source": [
        "train_path=\"./drive/MyDrive/chest_xray/train\"\n",
        "test_path=\"./drive/MyDrive/chest_xray/test\"\n",
        "\n",
        "trainDataGen=ImageDataGenerator(rescale=1./255, validation_split=0.1)\n",
        "testDataGen=ImageDataGenerator(rescale=1./255)\n",
        "\n",
        "trainGen=trainDataGen.flow_from_directory(\n",
        "    train_path,\n",
        "    target_size=(227,227),\n",
        "    color_mode='rgb',\n",
        "    class_mode=\"categorical\",\n",
        "    batch_size=128,\n",
        "    subset=\"training\"\n",
        "    )\n",
        "\n",
        "valGen=trainDataGen.flow_from_directory(\n",
        "    train_path,\n",
        "    target_size=(227,227),\n",
        "    color_mode='rgb',\n",
        "    class_mode=\"categorical\",\n",
        "    batch_size=128,\n",
        "    subset=\"validation\"\n",
        ")\n",
        "\n",
        "testGen=testDataGen.flow_from_directory(\n",
        "    test_path,\n",
        "    target_size=(227,227),\n",
        "    color_mode='rgb',\n",
        "    class_mode=\"categorical\",\n",
        "    batch_size=1\n",
        "    )"
      ],
      "execution_count": 3,
      "outputs": [
        {
          "output_type": "stream",
          "text": [
            "Found 4711 images belonging to 3 classes.\n",
            "Found 521 images belonging to 3 classes.\n",
            "Found 624 images belonging to 3 classes.\n"
          ],
          "name": "stdout"
        }
      ]
    },
    {
      "cell_type": "code",
      "metadata": {
        "id": "36C1xm6azlhh",
        "colab": {
          "base_uri": "https://localhost:8080/"
        },
        "outputId": "94e50745-cf60-4d5a-dad4-92085a871e99"
      },
      "source": [
        "alexnet=Sequential()\n",
        "alexnet.add(Conv2D(96,kernel_size=(11,11),strides=(4,4),activation='relu',input_shape=(227,227,3)))\n",
        "alexnet.add(MaxPooling2D(pool_size=(3,3),strides=(2,2)))\n",
        "alexnet.add(ZeroPadding2D((2,2)))\n",
        "alexnet.add(Conv2D(256,kernel_size=(5,5),activation='relu',strides=(1,1)))\n",
        "alexnet.add(MaxPooling2D(pool_size=(3,3),strides=(2,2)))\n",
        "alexnet.add(ZeroPadding2D((1,1)))\n",
        "alexnet.add(Conv2D(384,kernel_size=(3,3),activation='relu',strides=(1,1)))\n",
        "alexnet.add(ZeroPadding2D((1,1)))\n",
        "alexnet.add(Conv2D(384,kernel_size=(3,3),activation='relu',strides=(1,1)))\n",
        "alexnet.add(ZeroPadding2D((1,1)))\n",
        "alexnet.add(Conv2D(256,kernel_size=(3,3),activation='relu',strides=(1,1)))\n",
        "alexnet.add(MaxPooling2D(pool_size=(3,3),strides=(2,2)))\n",
        "alexnet.add(Flatten())\n",
        "alexnet.add(Dense(32,activation='relu'))\n",
        "alexnet.add(Dropout(0.1))\n",
        "alexnet.add(Dense(3,activation='softmax'))\n",
        "alexnet.summary()"
      ],
      "execution_count": 4,
      "outputs": [
        {
          "output_type": "stream",
          "text": [
            "Model: \"sequential\"\n",
            "_________________________________________________________________\n",
            "Layer (type)                 Output Shape              Param #   \n",
            "=================================================================\n",
            "conv2d (Conv2D)              (None, 55, 55, 96)        34944     \n",
            "_________________________________________________________________\n",
            "max_pooling2d (MaxPooling2D) (None, 27, 27, 96)        0         \n",
            "_________________________________________________________________\n",
            "zero_padding2d (ZeroPadding2 (None, 31, 31, 96)        0         \n",
            "_________________________________________________________________\n",
            "conv2d_1 (Conv2D)            (None, 27, 27, 256)       614656    \n",
            "_________________________________________________________________\n",
            "max_pooling2d_1 (MaxPooling2 (None, 13, 13, 256)       0         \n",
            "_________________________________________________________________\n",
            "zero_padding2d_1 (ZeroPaddin (None, 15, 15, 256)       0         \n",
            "_________________________________________________________________\n",
            "conv2d_2 (Conv2D)            (None, 13, 13, 384)       885120    \n",
            "_________________________________________________________________\n",
            "zero_padding2d_2 (ZeroPaddin (None, 15, 15, 384)       0         \n",
            "_________________________________________________________________\n",
            "conv2d_3 (Conv2D)            (None, 13, 13, 384)       1327488   \n",
            "_________________________________________________________________\n",
            "zero_padding2d_3 (ZeroPaddin (None, 15, 15, 384)       0         \n",
            "_________________________________________________________________\n",
            "conv2d_4 (Conv2D)            (None, 13, 13, 256)       884992    \n",
            "_________________________________________________________________\n",
            "max_pooling2d_2 (MaxPooling2 (None, 6, 6, 256)         0         \n",
            "_________________________________________________________________\n",
            "flatten (Flatten)            (None, 9216)              0         \n",
            "_________________________________________________________________\n",
            "dense (Dense)                (None, 32)                294944    \n",
            "_________________________________________________________________\n",
            "dropout (Dropout)            (None, 32)                0         \n",
            "_________________________________________________________________\n",
            "dense_1 (Dense)              (None, 3)                 99        \n",
            "=================================================================\n",
            "Total params: 4,042,243\n",
            "Trainable params: 4,042,243\n",
            "Non-trainable params: 0\n",
            "_________________________________________________________________\n"
          ],
          "name": "stdout"
        }
      ]
    },
    {
      "cell_type": "code",
      "metadata": {
        "id": "Gu3gI7sEzlk1"
      },
      "source": [
        "alexnet.compile(loss=\"categorical_crossentropy\",optimizer=\"adam\",metrics=[\"accuracy\"])"
      ],
      "execution_count": 5,
      "outputs": []
    },
    {
      "cell_type": "code",
      "metadata": {
        "id": "WauANPytzloL",
        "colab": {
          "base_uri": "https://localhost:8080/"
        },
        "outputId": "194191eb-e492-4466-fcbc-1b715bc7ca65"
      },
      "source": [
        "history=alexnet.fit(\n",
        " trainGen,\n",
        " steps_per_epoch=trainGen.samples//128,\n",
        " validation_data=valGen,\n",
        " validation_steps=valGen.samples//128,\n",
        " epochs=5\n",
        "\n",
        ")"
      ],
      "execution_count": 6,
      "outputs": [
        {
          "output_type": "stream",
          "text": [
            "Epoch 1/5\n",
            "36/36 [==============================] - 3175s 88s/step - loss: 1.2629 - accuracy: 0.4482 - val_loss: 1.0704 - val_accuracy: 0.4805\n",
            "Epoch 2/5\n",
            "36/36 [==============================] - 706s 20s/step - loss: 1.0706 - accuracy: 0.4766 - val_loss: 0.9168 - val_accuracy: 0.5957\n",
            "Epoch 3/5\n",
            "36/36 [==============================] - 693s 19s/step - loss: 0.9901 - accuracy: 0.5586 - val_loss: 0.8581 - val_accuracy: 0.6230\n",
            "Epoch 4/5\n",
            "36/36 [==============================] - 688s 19s/step - loss: 0.8612 - accuracy: 0.6080 - val_loss: 0.7571 - val_accuracy: 0.7188\n",
            "Epoch 5/5\n",
            "36/36 [==============================] - 672s 19s/step - loss: 0.7975 - accuracy: 0.6509 - val_loss: 0.7730 - val_accuracy: 0.6953\n"
          ],
          "name": "stdout"
        }
      ]
    },
    {
      "cell_type": "code",
      "metadata": {
        "colab": {
          "base_uri": "https://localhost:8080/",
          "height": 729
        },
        "id": "DCO9CbSzX5UJ",
        "outputId": "beef73da-fcfa-41a5-b9da-46318ddb8e97"
      },
      "source": [
        "plt.figure(figsize=(10,10))\n",
        "plt.subplot(211)\n",
        "plt.title(\"Accuracy\")\n",
        "plt.plot(history.history[\"accuracy\"], color='r',label='train')\n",
        "plt.plot(history.history[\"val_accuracy\"], color='b',label='validation_acc')\n",
        "plt.legend(loc='best')\n",
        "plt.subplot(212)\n",
        "plt.title(\"Loss\")\n",
        "plt.plot(history.history[\"loss\"], color='r',label='loss')\n",
        "plt.plot(history.history[\"val_loss\"], color='b',label='validation_loss')\n",
        "plt.legend(loc='best')\n",
        "plt.tight_layout()\n",
        "plt.show()"
      ],
      "execution_count": 7,
      "outputs": [
        {
          "output_type": "display_data",
          "data": {
            "image/png": "[encoded data removed]",
            "text/plain": [
              "<Figure size 720x720 with 2 Axes>"
            ]
          },
          "metadata": {
            "tags": [],
            "needs_background": "light"
          }
        }
      ]
    },
    {
      "cell_type": "code",
      "metadata": {
        "colab": {
          "base_uri": "https://localhost:8080/"
        },
        "id": "XCQirfWLe1mV",
        "outputId": "0fdfd752-b4d3-4801-bb26-559f17dd75c7"
      },
      "source": [
        " score=alexnet.evaluate(testGen)\n",
        "print(\"Test Loss : \",score[0])\n",
        "print(\"Test Accuracy % : \",score[1]*100)"
      ],
      "execution_count": 9,
      "outputs": [
        {
          "output_type": "stream",
          "text": [
            "624/624 [==============================] - 371s 595ms/step - loss: 0.7795 - accuracy: 0.7131\n",
            "Test Loss :  0.7794553637504578\n",
            "Test Accuracy % :  71.31410241127014\n"
          ],
          "name": "stdout"
        }
      ]
    },
    {
      "cell_type": "code",
      "metadata": {
        "id": "tbXJ820de3f1"
      },
      "source": [
        "from sklearn.metrics import classification_report, confusion_matrix"
      ],
      "execution_count": 10,
      "outputs": []
    },
    {
      "cell_type": "code",
      "metadata": {
        "id": "fs3qQDcle7oD"
      },
      "source": [
        "y_pred=np.argmax(alexnet.predict(testGen), axis=1)"
      ],
      "execution_count": 11,
      "outputs": []
    },
    {
      "cell_type": "code",
      "metadata": {
        "colab": {
          "base_uri": "https://localhost:8080/"
        },
        "id": "xOBdEtxRfEd3",
        "outputId": "c58f5905-f0c3-4cfb-fd47-5cc5a1cc6814"
      },
      "source": [
        "print('Confusion Matrix')\n",
        "print(confusion_matrix(testGen.classes,y_pred))\n",
        "\n",
        "print('Classification Report')\n",
        "target_names=['bacteria_pneumonia', 'normal', 'virus_pneumonia']\n",
        "print(classification_report(testGen.classes, y_pred, target_names=target_names))"
      ],
      "execution_count": 12,
      "outputs": [
        {
          "output_type": "stream",
          "text": [
            "Confusion Matrix\n",
            "[[103  95  39]\n",
            " [100 102  32]\n",
            " [ 68  65  20]]\n",
            "Classification Report\n",
            "                    precision    recall  f1-score   support\n",
            "\n",
            "bacteria_pneumonia       0.38      0.43      0.41       237\n",
            "            normal       0.39      0.44      0.41       234\n",
            "   virus_pneumonia       0.22      0.13      0.16       153\n",
            "\n",
            "          accuracy                           0.36       624\n",
            "         macro avg       0.33      0.33      0.33       624\n",
            "      weighted avg       0.34      0.36      0.35       624\n",
            "\n"
          ],
          "name": "stdout"
        }
      ]
    },
    {
      "cell_type": "code",
      "metadata": {
        "id": "SPxR-dVqfHKj"
      },
      "source": [
        ""
      ],
      "execution_count": null,
      "outputs": []
    }
  ]
}